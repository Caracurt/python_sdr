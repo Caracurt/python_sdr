import adi
import matplotlib.pyplot as plt
import numpy as np
import numpy.matlib
import scipy
import time
import pylab as pl
from IPython import display

sample_rate = 5e6
center_freq = 1.5e9

delta_t = 1 / sample_rate
delta_f = 30e3
frac_guard = 0.5

N_sc_av = int(sample_rate / delta_f)
N_fft = 2 ** (int(np.log2(N_sc_av)))
N_sc_use = int(N_fft * frac_guard)
guard_length = int(0.5 * N_fft)
CP_len = int(N_fft * 0.2)
num_bits_sym = 1

BlockSize = N_sc_use * num_bits_sym

do_cfo_corr = 1
do_ce = 1
dc_offset = 0


def create_preamble(N_fft, CP_len, N_repeat=2):
    preamble = 1 - 2 * np.random.randint(0, 2, size=(int(N_fft / 2), 1))
    preamble = np.complex64(preamble)
    preamble_full = np.tile(preamble, (N_repeat, 1))
    preamble_full_cp = np.concatenate((preamble_full[-CP_len:], preamble_full))
    return preamble_full_cp


def create_data(N_sc, N_fft, CP_len, dc_offset=False, aditional_return=None):
    data_stream = np.random.randint(0, 2, size=(N_sc, 1))
    data_stream_mod = 1 - 2 * data_stream
    mod_sym_pilot = np.complex64(data_stream_mod)

    tx_ofdm_sym = np.zeros((N_fft, 1), dtype=np.complex64)
    dc = int(dc_offset)
    tx_ofdm_sym[dc: N_sc // 2 + dc] = mod_sym_pilot[N_sc // 2:]
    tx_ofdm_sym[-N_sc // 2:] = mod_sym_pilot[0: N_sc // 2]

    time_ofdm_sym_pilot = np.fft.ifft(tx_ofdm_sym, axis=0, norm='ortho')
    time_ofdm_sym_cp_pilot = np.concatenate((time_ofdm_sym_pilot[-CP_len:], time_ofdm_sym_pilot))

    if aditional_return == 'mod_sym_pilot':
        return time_ofdm_sym_cp_pilot, mod_sym_pilot
    if aditional_return == 'data_stream':
        return time_ofdm_sym_cp_pilot, data_stream


#############################################################################
def find_edges(rx_sig, frame_len, preamble_len, start_idx):
    corr_list = []
    for idx_search in range(start_idx, start_idx + frame_len):
        first_part = rx_sig[idx_search: idx_search + preamble_len]
        second_part = rx_sig[idx_search + preamble_len: idx_search + 2 * preamble_len]

        corr_now = np.dot(np.conj(first_part), second_part)
        corr_list.append(corr_now)

    rel_idx = np.argmax(np.abs(corr_list), axis=0)
    idx_max = rel_idx + start_idx

    return idx_max, corr_list[rel_idx]


def cfo(frame_receive, corr_value, preamble_len):
    angle_cfo = np.angle(corr_value) / preamble_len
    cfo_comp_sig = np.exp(1j * (-angle_cfo * np.arange(0, frame_len)))
    frame_receive = frame_receive * cfo_comp_sig
    return frame_receive


def baseband_freq_domian(pilot_freq, N_sc_use):
    rec_sym_pilot = np.zeros((N_sc_use, 1), dtype=np.complex64)
    rec_sym_pilot[int(N_sc_use / 2):, 0] = pilot_freq[0 + dc_offset:int(N_sc_use / 2) + dc_offset]
    rec_sym_pilot[0:int(N_sc_use / 2), 0] = pilot_freq[-int(N_sc_use / 2):]

    return rec_sym_pilot


def channel_estimation(h_ls, CP_len, N_fft):
    h_time = np.fft.ifft(h_ls, N_fft, 0, norm='ortho')
    ce_len = len(h_ls)

    W_spead = int(CP_len / 8)
    W_sync_err = int(CP_len)
    W_max = W_spead + W_sync_err
    W_min = W_sync_err

    eta_denoise = np.zeros_like(h_time)
    eta_denoise[-W_min:] = 1.0
    eta_denoise[0:W_max] = 1.0

    h_time_denoise = h_time * eta_denoise

    h_hw = np.fft.fft(h_time_denoise, N_fft, 0, norm='ortho')
    h_ls = h_hw[0:ce_len]

    display.clear_output(wait=True)
    plt.figure(100)
    plt.plot(np.arange(0, N_fft), np.abs(h_time))
    plt.plot(np.arange(0, N_fft), np.abs(h_time_denoise))
    plt.title('Channel response time domain')
    plt.grid();
    plt.show()

    return h_ls


def estimate_SNR(pilot_freq, rec_sym_pilot, N_sc_use):
    noise_arr = pilot_freq[int(N_sc_use / 2): -int(N_sc_use / 2)]
    sigma0_freq = np.real(np.dot(np.conj(noise_arr), noise_arr)) / len(noise_arr)
    Es_freq = np.real(np.dot(np.conj(rec_sym_pilot[:, 0]), rec_sym_pilot[:, 0])) / len(rec_sym_pilot[:, 0])
    SNR_est = 10.0 * np.log10(Es_freq / sigma0_freq)
    return SNR_est


def demodulate(eq_data, N_sc_use):
    bit_arr = []
    for idx in range(0, N_sc_use):

        if (np.real(eq_data[idx]) > 0):
            bit_curr = 0
        else:
            bit_curr = 1

        bit_arr.append(bit_curr)
    return bit_arr


def get_ber(data_stream, bit_arr, N_sc_use):
    err_num = 0
    for idx in range(0, N_sc_use):
        if (data_stream[idx, 0] != bit_arr[idx]):
            err_num = err_num + 1
    ber = 1.0 * err_num / N_sc_use
    return ber


#############################################################################

np.random.seed(123)
preamble = create_preamble(N_fft, CP_len, 2)
pilot, pilot_freq_ = create_data(N_sc_use, N_fft, CP_len, aditional_return='mod_sym_pilot')
data, data_stream = create_data(N_sc_use, N_fft, CP_len, aditional_return='data_stream')
guard = np.zeros((guard_length, 1), dtype=np.complex64)
frame = np.concatenate((preamble, pilot, data, guard))

repeated_frame = np.tile(frame, reps=(3, 1))

frame_len = len(frame)
preamble_len = N_fft // 2

sdr = adi.ad9361(uri='ip:192.168.1.1')
samp_rate = sample_rate  # must be <=30.72 MHz if both channels are enabled
num_samps = len(repeated_frame)  # number of samples per buffer.  Can be different for Rx and Tx
rx_lo = int(center_freq)
rx_mode = "slow_attack"  # can be "manual" or "slow_attack"
rx_gain0 = 70
rx_gain1 = 70
tx_lo = rx_lo
tx_gain0 = -10
tx_gain1 = -10

sdr.rx_enabled_channels = [0, 1]
sdr.sample_rate = int(samp_rate)
sdr.rx_lo = int(rx_lo)
sdr.gain_control_mode = rx_mode
sdr.rx_hardwaregain_chan0 = int(rx_gain0)
# sdr.rx_hardwaregain_chan1 = int(rx_gain1)
sdr.rx_buffer_size = int(num_samps)

while (True):
    data = sdr.rx()
    print(data[0].shape)
    rx_sig = data[0] + data[1]
    rx_len = len(rx_sig)

    idx_max, corr_value = find_edges(rx_sig, frame_len, preamble_len, start_idx=0)
    frame_receive = rx_sig[idx_max: idx_max + frame_len]

    frame_receive = cfo(frame_receive, corr_value, preamble_len) if do_cfo_corr else frame_receive
    pilot_receive = frame_receive[N_fft + CP_len: 2 * N_fft + CP_len]

    pilot_freq = np.fft.fft(pilot_receive, N_fft, 0, norm="ortho")
    rec_sym_pilot = baseband_freq_domian(pilot_freq, N_sc_use)

    # apply CE
    h_ls = rec_sym_pilot[:, 0] / pilot_freq_[:, 0]
    h_ls = channel_estimation(h_ls, CP_len, N_fft) if do_ce else h_ls

    rec_data_sym = frame_receive[2 * (N_fft + CP_len): 2 * (N_fft + CP_len) + N_fft]
    rec_data_sym_freq = np.fft.fft(rec_data_sym, N_fft, 0, norm="ortho")
    rec_sym_data = baseband_freq_domian(rec_data_sym_freq, BlockSize)
    eq_data = rec_sym_data[:, 0] / h_ls

    bit_arr = demodulate(eq_data, N_sc_use)
    ber = get_ber(data_stream, bit_arr, N_sc_use)
    SNR_est = estimate_SNR(pilot_freq, rec_sym_pilot, N_sc_use)

    print(data_stream[:10, 0])
    print(bit_arr[:10])
    print(f'SNRest={SNR_est}')
    print(f'BER={ber}')